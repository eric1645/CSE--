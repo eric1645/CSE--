{
  "nbformat": 4,
  "nbformat_minor": 0,
  "metadata": {
    "colab": {
      "provenance": [],
      "authorship_tag": "ABX9TyP7y51vN1lIDxT5zT6ZmvkH",
      "include_colab_link": true
    },
    "kernelspec": {
      "name": "python3",
      "display_name": "Python 3"
    },
    "language_info": {
      "name": "python"
    }
  },
  "cells": [
    {
      "cell_type": "markdown",
      "metadata": {
        "id": "view-in-github",
        "colab_type": "text"
      },
      "source": [
        "<a href=\"https://colab.research.google.com/github/eric1645/CSE--/blob/main/cse_HW01.ipynb\" target=\"_parent\"><img src=\"https://colab.research.google.com/assets/colab-badge.svg\" alt=\"Open In Colab\"/></a>"
      ]
    },
    {
      "cell_type": "markdown",
      "source": [
        "### 1-1. RANDOM 함수를 써서 만든 임의의 숫자 100개를 오름차순으로 정렬하세요."
      ],
      "metadata": {
        "id": "ExcHK7yeOzUp"
      }
    },
    {
      "cell_type": "code",
      "execution_count": null,
      "metadata": {
        "colab": {
          "base_uri": "https://localhost:8080/"
        },
        "id": "CL1nsb9jcueD",
        "outputId": "a921e7f9-c9b1-41d1-ed30-1b69821146ab"
      },
      "outputs": [
        {
          "output_type": "stream",
          "name": "stdout",
          "text": [
            "[847, 604, 516, 564, 690, 200, 982, 134, 312, 766, 175, 980, 484, 274, 984, 764, 601, 713, 666, 87, 488, 519, 519, 400, 548, 788, 959, 789, 828, 928, 200, 446, 931, 766, 829, 125, 94, 567, 687, 792, 71, 111, 159, 59, 886, 335, 605, 585, 991, 507, 70, 165, 826, 92, 219, 137, 167, 867, 697, 904, 360, 26, 828, 95, 615, 574, 206, 763, 566, 485, 553, 455, 412, 78, 332, 978, 656, 768, 88, 189, 212, 183, 122, 119, 351, 403, 712, 381, 825, 971, 521, 300, 50, 170, 622, 312, 553, 942, 722, 445]\n",
            "[26, 50, 59, 70, 71, 78, 87, 88, 92, 94, 95, 111, 119, 122, 125, 134, 137, 159, 165, 167, 170, 175, 183, 189, 200, 200, 206, 212, 219, 274, 300, 312, 312, 332, 335, 351, 360, 381, 400, 403, 412, 445, 446, 455, 484, 485, 488, 507, 516, 519, 519, 521, 548, 553, 553, 564, 566, 567, 574, 585, 601, 604, 605, 615, 622, 656, 666, 687, 690, 697, 712, 713, 722, 763, 764, 766, 766, 768, 788, 789, 792, 825, 826, 828, 828, 829, 847, 867, 886, 904, 928, 931, 942, 959, 971, 978, 980, 982, 984, 991]\n"
          ]
        }
      ],
      "source": [
        "import random\n",
        "\n",
        "#임의의 숫자 100개 생성\n",
        "a = [random.randint(0,1000) for i in range(100)]\n",
        "\n",
        "#오름차순 정렬\n",
        "numbers = sorted(a)\n",
        "\n",
        "print(a)\n",
        "print(numbers)"
      ]
    },
    {
      "cell_type": "markdown",
      "source": [
        "###1-2. 임의의 두 4x4 matrix A, B를 생성하고, 두 matrix를 곱해 matrix C를 생성하세요. 그 이후에 기존의 공식을 사용하여 matrix C의 inverse matrix를 계산하세요. 그리고 C와 inverse c를 곱해 identity matrix가 나옴을 확인하세요."
      ],
      "metadata": {
        "id": "IpKoCR1XO_7o"
      }
    },
    {
      "cell_type": "code",
      "source": [
        "import numpy as np\n",
        "\n",
        "#임의의 두 4x4 matrix 생성\n",
        "A = np.random.randint(0,100,(4,4))\n",
        "B = np.random.randint(0,100,(4,4))\n",
        "\n",
        "#두 matrix의 곱\n",
        "C = np.dot(A,B)\n",
        "\n",
        "#matirx C의 inverse 계산\n",
        "C_det = np.linalg.det(C) #C의 determinant\n",
        "C_trans = np.transpose(C) #C의 전치행렬\n",
        "C_cofactor = np.zeros((4,4))\n",
        "\n",
        "for row in range(4):\n",
        "  for col in range(4):\n",
        "    C_minor = np.delete(np.delete(C_trans, row, axis=0), col, axis=1) #소행렬 계산\n",
        "    C_cofactor[row,col]=((-1) ** (row + col)) * np.linalg.det(C_minor) #여인자 계산\n",
        "\n",
        "C_inv = C_cofactor/C_det\n",
        "\n",
        "#Identity matrix 확인\n",
        "I = np.dot(C,C_inv)\n",
        "\n",
        "print(A)\n",
        "print(B)\n",
        "print(C)\n",
        "print(C_inv)\n",
        "print(I)"
      ],
      "metadata": {
        "colab": {
          "base_uri": "https://localhost:8080/"
        },
        "id": "EIeg13SueBow",
        "outputId": "500fcb0a-d308-433a-9c10-ef77a76a438a"
      },
      "execution_count": null,
      "outputs": [
        {
          "output_type": "stream",
          "name": "stdout",
          "text": [
            "[[84 93 54 45]\n",
            " [72 44 70 97]\n",
            " [32 77 72 95]\n",
            " [31 39 30 57]]\n",
            "[[99 32 49 81]\n",
            " [ 8 23 99 34]\n",
            " [70 60 18 69]\n",
            " [35 60 91 85]]\n",
            "[[14415 10767 18390 17517]\n",
            " [15775 13336 17971 20403]\n",
            " [12149 12815 19132 18253]\n",
            " [ 7476  7109 11107 10752]]\n",
            "[[ 0.00051766  0.00010125  0.00058597 -0.00203026]\n",
            " [ 0.00028341  0.00017686  0.00168546 -0.00365864]\n",
            " [ 0.00025072 -0.00027898  0.00021612 -0.00024599]\n",
            " [-0.00080632  0.00010085 -0.00174509  0.0041778 ]]\n",
            "[[ 1.00000000e+00 -1.66971471e-14  8.34629674e-14 -1.49148055e-13]\n",
            " [ 1.90935592e-14  1.00000000e+00  9.80376804e-14 -1.52943630e-13]\n",
            " [ 1.41853760e-14 -1.55730463e-14  1.00000000e+00 -1.51701568e-13]\n",
            " [ 8.71525074e-15 -9.54791801e-15  5.51780843e-14  1.00000000e+00]]\n"
          ]
        }
      ]
    },
    {
      "cell_type": "markdown",
      "source": [
        "###1. 이분법을 사용하여 주어진 3구간 [-10,-1], [-1, 0], [0, 10]에서의 f(x)의 해를 구하시오"
      ],
      "metadata": {
        "id": "m9wSy6IxPTzS"
      }
    },
    {
      "cell_type": "code",
      "source": [
        "#Error bound\n",
        "tol=10**(-8)\n",
        "\n",
        "#주어진 함수\n",
        "def f(x):\n",
        "\n",
        "  return x**5 -9*x**4 - x**3 + 17*x**2 - 8*x - 8\n",
        "\n",
        "#구간 설정\n",
        "A = [-10, -1, 0]\n",
        "B = [-1, 0, 10]\n",
        "\n",
        "#bisection 함수 정의\n",
        "def bisection(a, b):\n",
        "  if f(a)*f(b)>0:\n",
        "      print(\"부적절한 구간 설정\")\n",
        "  else:\n",
        "    j = 0 #계산 횟수\n",
        "    while b-a > tol:\n",
        "      m = a + (b-a)/2\n",
        "      if f(a)*f(m)<0:\n",
        "        b = m\n",
        "      else:\n",
        "        a = m\n",
        "      j += 1\n",
        "    print(\"근사해:\",m,\" 계산 횟수:\",j)\n",
        "\n",
        "for i in range(len(A)):\n",
        "  bisection(A[i],B[i])"
      ],
      "metadata": {
        "id": "sa1r80jekNrB",
        "colab": {
          "base_uri": "https://localhost:8080/"
        },
        "outputId": "1449a426-1d63-4fb3-8bca-9df1acd44644"
      },
      "execution_count": null,
      "outputs": [
        {
          "output_type": "stream",
          "name": "stdout",
          "text": [
            "근사해: -1.3875071099027991  계산 횟수: 30\n",
            "근사해: -0.5104293450713158  계산 횟수: 27\n",
            "근사해: 8.910696404054761  계산 횟수: 30\n"
          ]
        }
      ]
    },
    {
      "cell_type": "markdown",
      "source": [
        "###2. 뉴턴법을 사용하여 주어진 3점 x_0 = -10, -0.1, 0에서 f(x)의 해를 구하시오\n"
      ],
      "metadata": {
        "id": "xlLaV7bsPe2Q"
      }
    },
    {
      "cell_type": "code",
      "source": [
        "#Error bound\n",
        "tol=10**(-8)\n",
        "\n",
        "#주어진 함수\n",
        "def f(x):\n",
        "\n",
        "  return x**5 - 9*x**4 - x**3 + 17*x**2 - 8*x - 8\n",
        "\n",
        "#도함수\n",
        "def fp(x):\n",
        "\n",
        "  return 5*x**4 - 36*x**3 - 3*x**2 + 34*x - 8\n",
        "\n",
        "#초기값 설정\n",
        "x_0 = [-10, -0.1, 10]\n",
        "\n",
        "#newton 함수 정의\n",
        "def newton(x):\n",
        "  i = 0 #계산 횟수\n",
        "  while True:\n",
        "    x_n = x - f(x)/fp(x)\n",
        "    if abs(x_n - x) < tol:\n",
        "      break\n",
        "    x = x_n\n",
        "    i += 1\n",
        "  print(\"근사해:\",x_n, \"계산 횟수\", i)\n",
        "\n",
        "for i in range(len(x_0)):\n",
        "  newton(x_0[i])"
      ],
      "metadata": {
        "colab": {
          "base_uri": "https://localhost:8080/"
        },
        "id": "bpyzq2KKqNKh",
        "outputId": "8cac9c15-849a-4c13-936c-17700b9b4d62"
      },
      "execution_count": null,
      "outputs": [
        {
          "output_type": "stream",
          "name": "stdout",
          "text": [
            "근사해: -1.3875071055826167 계산 횟수 12\n",
            "근사해: -0.5104293428178256 계산 횟수 4\n",
            "근사해: 8.910696402960298 계산 횟수 5\n"
          ]
        }
      ]
    },
    {
      "cell_type": "markdown",
      "source": [
        "###3. 뉴턴법을 사용하였을 때, 초기 조건을 x_0 = 0 에 대해 계산할 경우, 계산이 어떠한 양상을 보이는지 서술하시오."
      ],
      "metadata": {
        "id": "ZtO_rroWPml4"
      }
    },
    {
      "cell_type": "code",
      "source": [
        "#Error bound\n",
        "tol=10**(-8)\n",
        "\n",
        "#주어진 함수\n",
        "def f(x):\n",
        "\n",
        "  return x**5 - 9*x**4 - x**3 + 17*x**2 - 8*x - 8\n",
        "\n",
        "#도함수\n",
        "def fp(x):\n",
        "\n",
        "  return 5*x**4 - 36*x**3 - 3*x**2 + 34*x - 8\n",
        "\n",
        "#초기값 설정\n",
        "x_0 = [0]\n",
        "\n",
        "#newton 함수 정의\n",
        "def newton(x):\n",
        "  i = 0 #계산 횟수\n",
        "  while True:\n",
        "    x_n = x - f(x)/fp(x)\n",
        "    if abs(x_n - x) < tol:\n",
        "      break\n",
        "    x = x_n\n",
        "    i += 1\n",
        "  print(\"근사해:\",x_n, \"계산 횟수\", i)\n",
        "\n",
        "for i in range(len(x_0)):\n",
        "  newton(x_0[i])"
      ],
      "metadata": {
        "colab": {
          "base_uri": "https://localhost:8080/",
          "height": 309
        },
        "id": "OfKV9BwNJBPo",
        "outputId": "801b6754-8411-453f-b071-fafb47241bc2"
      },
      "execution_count": 1,
      "outputs": [
        {
          "output_type": "error",
          "ename": "KeyboardInterrupt",
          "evalue": "",
          "traceback": [
            "\u001b[0;31m---------------------------------------------------------------------------\u001b[0m",
            "\u001b[0;31mKeyboardInterrupt\u001b[0m                         Traceback (most recent call last)",
            "\u001b[0;32m/tmp/ipython-input-1-1396360907.py\u001b[0m in \u001b[0;36m<cell line: 0>\u001b[0;34m()\u001b[0m\n\u001b[1;32m     27\u001b[0m \u001b[0;34m\u001b[0m\u001b[0m\n\u001b[1;32m     28\u001b[0m \u001b[0;32mfor\u001b[0m \u001b[0mi\u001b[0m \u001b[0;32min\u001b[0m \u001b[0mrange\u001b[0m\u001b[0;34m(\u001b[0m\u001b[0mlen\u001b[0m\u001b[0;34m(\u001b[0m\u001b[0mx_0\u001b[0m\u001b[0;34m)\u001b[0m\u001b[0;34m)\u001b[0m\u001b[0;34m:\u001b[0m\u001b[0;34m\u001b[0m\u001b[0;34m\u001b[0m\u001b[0m\n\u001b[0;32m---> 29\u001b[0;31m   \u001b[0mnewton\u001b[0m\u001b[0;34m(\u001b[0m\u001b[0mx_0\u001b[0m\u001b[0;34m[\u001b[0m\u001b[0mi\u001b[0m\u001b[0;34m]\u001b[0m\u001b[0;34m)\u001b[0m\u001b[0;34m\u001b[0m\u001b[0;34m\u001b[0m\u001b[0m\n\u001b[0m",
            "\u001b[0;32m/tmp/ipython-input-1-1396360907.py\u001b[0m in \u001b[0;36mnewton\u001b[0;34m(x)\u001b[0m\n\u001b[1;32m     20\u001b[0m   \u001b[0;32mwhile\u001b[0m \u001b[0;32mTrue\u001b[0m\u001b[0;34m:\u001b[0m\u001b[0;34m\u001b[0m\u001b[0;34m\u001b[0m\u001b[0m\n\u001b[1;32m     21\u001b[0m     \u001b[0mx_n\u001b[0m \u001b[0;34m=\u001b[0m \u001b[0mx\u001b[0m \u001b[0;34m-\u001b[0m \u001b[0mf\u001b[0m\u001b[0;34m(\u001b[0m\u001b[0mx\u001b[0m\u001b[0;34m)\u001b[0m\u001b[0;34m/\u001b[0m\u001b[0mfp\u001b[0m\u001b[0;34m(\u001b[0m\u001b[0mx\u001b[0m\u001b[0;34m)\u001b[0m\u001b[0;34m\u001b[0m\u001b[0;34m\u001b[0m\u001b[0m\n\u001b[0;32m---> 22\u001b[0;31m     \u001b[0;32mif\u001b[0m \u001b[0mabs\u001b[0m\u001b[0;34m(\u001b[0m\u001b[0mx_n\u001b[0m \u001b[0;34m-\u001b[0m \u001b[0mx\u001b[0m\u001b[0;34m)\u001b[0m \u001b[0;34m<\u001b[0m \u001b[0mtol\u001b[0m\u001b[0;34m:\u001b[0m\u001b[0;34m\u001b[0m\u001b[0;34m\u001b[0m\u001b[0m\n\u001b[0m\u001b[1;32m     23\u001b[0m       \u001b[0;32mbreak\u001b[0m\u001b[0;34m\u001b[0m\u001b[0;34m\u001b[0m\u001b[0m\n\u001b[1;32m     24\u001b[0m     \u001b[0mx\u001b[0m \u001b[0;34m=\u001b[0m \u001b[0mx_n\u001b[0m\u001b[0;34m\u001b[0m\u001b[0;34m\u001b[0m\u001b[0m\n",
            "\u001b[0;31mKeyboardInterrupt\u001b[0m: "
          ]
        }
      ]
    },
    {
      "cell_type": "markdown",
      "source": [
        "초기 조건을 0으로 두었을 경우 2분이 걸려도 근사해가 구해지지 않는 결과가 발생했다. 이는 초기값을 어떻게 설정하는지가 중요한 뉴턴법의 특징 중 하나로 볼 수 있다. 만약 어느 지점에서 미분계수가 0이 되거나, 초기값을 잘못 설정하면 해를 아예 찾을 수 없는 상황이 발생할 수 있다."
      ],
      "metadata": {
        "id": "W1arezzsLV7V"
      }
    },
    {
      "cell_type": "markdown",
      "source": [
        "###4. 시컨트법을 사용하여 주어진 초기조건에서 f(x)의 해를 구하시오.\n",
        "(1) x_1 = -10, x_2 = -9.9/(2) x_1 = -0.1, x_2 = -0.2/(3) x_1 = 10, x_2 = 9.9\n"
      ],
      "metadata": {
        "id": "LwT70FyzPvkd"
      }
    },
    {
      "cell_type": "code",
      "source": [
        "#Error bound\n",
        "tol=10**(-8)\n",
        "\n",
        "#주어진 함수\n",
        "def f(x):\n",
        "\n",
        "  return x**5 - 9*x**4 - x**3 + 17*x**2 - 8*x - 8\n",
        "\n",
        "#secant 함수 정의\n",
        "def secant(x_1, x_2):\n",
        "  i = 0 #계산 횟수\n",
        "  while True:\n",
        "    x_3 = x_2 - f(x_2)*(x_2 - x_1)/(f(x_2) - f(x_1))\n",
        "    if abs(x_3 - x_2) < tol:\n",
        "      break\n",
        "    x_1 = x_2\n",
        "    x_2 = x_3\n",
        "    i += 1\n",
        "  print(\"근사해:\",x_3, \"계산 횟수\", i)\n",
        "\n",
        "secant(-10, -9.9)\n",
        "secant(-0.1, -0.2)\n",
        "secant(10, 9.9)"
      ],
      "metadata": {
        "colab": {
          "base_uri": "https://localhost:8080/"
        },
        "id": "uAfh5dpcKsBv",
        "outputId": "e96f32ca-419f-4814-915f-8a3545f79784"
      },
      "execution_count": null,
      "outputs": [
        {
          "output_type": "stream",
          "name": "stdout",
          "text": [
            "근사해: -1.387507105582635 계산 횟수 17\n",
            "근사해: -0.5104293428178256 계산 횟수 5\n",
            "근사해: 8.910696402960298 계산 횟수 6\n"
          ]
        }
      ]
    },
    {
      "cell_type": "markdown",
      "source": [
        "###5. 이분법, 뉴턴법, 시컨트법에 대한 계산을 진행하고, 몇 번의 반복계산 후에 해를 구했는지 서술하시오."
      ],
      "metadata": {
        "id": "zeL5d_MaZQaM"
      }
    },
    {
      "cell_type": "markdown",
      "source": [
        "각각의 방법에 대해 계산 횟수를 구한 결과, 전체적으로 뉴턴법->시컨트법->이분법 순으로 근사해를 구하기 위한 계산 횟수가 증가하였다. 근사해를 구하는 안정성 또한 뉴턴법->시컨트법->이분법 순으로 증가한다."
      ],
      "metadata": {
        "id": "87DqxcHFZabh"
      }
    }
  ]
}
